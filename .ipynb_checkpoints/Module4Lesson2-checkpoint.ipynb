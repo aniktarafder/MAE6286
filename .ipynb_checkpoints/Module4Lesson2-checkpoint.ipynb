{
 "cells": [
  {
   "cell_type": "code",
   "execution_count": 34,
   "metadata": {},
   "outputs": [],
   "source": [
    "import numpy\n",
    "from matplotlib import pyplot\n",
    "%matplotlib inline\n",
    "from scipy import linalg\n",
    "from scipy.sparse import coo_matrix\n",
    "from sys import getsizeof"
   ]
  },
  {
   "cell_type": "code",
   "execution_count": 81,
   "metadata": {},
   "outputs": [],
   "source": [
    "def Amatrix(nx, sigma):\n",
    "    D = numpy.diag((2.0 + 1.0 / sigma) * numpy.ones(nx))\n",
    "    D[-1,-1] = 1+1.0/sigma #last element due to Neumann bc.\n",
    "    U = numpy.diag(-1.0*numpy.ones(nx-1), k=1)\n",
    "    L = numpy.diag(-1.0*numpy.ones(nx-1), k=-1)\n",
    "    A = D + U + L\n",
    "    print(str(getsizeof(A)))\n",
    "    return A\n",
    "\n",
    "def RHS(dx, q, T, sigma):\n",
    "    b = T[1:-1]/sigma \n",
    "    b[0] = b[0] + T[0]\n",
    "    b[-1] = b[-1] + q*dx\n",
    "    return b\n",
    "    "
   ]
  },
  {
   "cell_type": "code",
   "execution_count": 82,
   "metadata": {},
   "outputs": [],
   "source": [
    "def implicit(dx, dt,nt, nx, sigma,q,T0):\n",
    "    A = Amatrix(nx-2, sigma)\n",
    "    T = T0.copy()\n",
    "    for n in range(1,nt):\n",
    "        b = RHS(dx, q, T, sigma)\n",
    "        T[1:-1] = linalg.solve(A,b)\n",
    "        T[-1] = T[-2] + q*dx\n",
    "    return T"
   ]
  },
  {
   "cell_type": "code",
   "execution_count": 83,
   "metadata": {},
   "outputs": [
    {
     "name": "stdout",
     "output_type": "stream",
     "text": [
      "19320\n"
     ]
    }
   ],
   "source": [
    "L = 1.0\n",
    "nx = 51\n",
    "dx = L/(nx-1)\n",
    "alpha = 1.22e-3\n",
    "q = 0.0\n",
    "sigma =0.5\n",
    "dt = sigma * dx**2 /alpha\n",
    "nt = 1000\n",
    "x = numpy.linspace(0.0,L, num=nx)\n",
    "\n",
    "T0 = numpy.zeros(nx)\n",
    "T0[0] = 100.0\n",
    "T = implicit(dx, dt,nt, nx, sigma,q,T0)"
   ]
  },
  {
   "cell_type": "code",
   "execution_count": 84,
   "metadata": {},
   "outputs": [],
   "source": [
    "def plot(x,T):\n",
    "    pyplot.figure(figsize=(6.0, 4.0))\n",
    "    pyplot.xlabel('Distance [m]')\n",
    "    pyplot.ylabel('Temperature [C]')\n",
    "    pyplot.grid()\n",
    "    pyplot.plot(x, T, color='C0', linestyle='-', linewidth=2)\n",
    "    pyplot.xlim(0.0, L)\n",
    "    pyplot.ylim(0.0, 100.0);"
   ]
  },
  {
   "cell_type": "code",
   "execution_count": 85,
   "metadata": {},
   "outputs": [
    {
     "data": {
      "image/png": "[encoded data removed]",
      "text/plain": [
       "<Figure size 432x288 with 1 Axes>"
      ]
     },
     "metadata": {
      "needs_background": "light"
     },
     "output_type": "display_data"
    }
   ],
   "source": [
    "plot(x,T)"
   ]
  },
  {
   "cell_type": "code",
   "execution_count": 86,
   "metadata": {},
   "outputs": [
    {
     "name": "stdout",
     "output_type": "stream",
     "text": [
      "56\n"
     ]
    },
    {
     "data": {
      "image/png": "[encoded data removed]",
      "text/plain": [
       "<Figure size 432x288 with 1 Axes>"
      ]
     },
     "metadata": {
      "needs_background": "light"
     },
     "output_type": "display_data"
    }
   ],
   "source": [
    "from scipy.sparse.linalg import spsolve\n",
    "def ACoomatrix(nx, sigma):\n",
    "    D = numpy.diag((2.0 + 1.0 / sigma) * numpy.ones(nx))\n",
    "    D[-1,-1] = 1+1.0/sigma #last element due to Neumann bc.\n",
    "    U = numpy.diag(-1.0*numpy.ones(nx-1), k=1)\n",
    "    L = numpy.diag(-1.0*numpy.ones(nx-1), k=-1)\n",
    "    A = D + U + L\n",
    "    Asp = coo_matrix(A)\n",
    "    print(str(getsizeof(Asp)))\n",
    "    return Asp\n",
    "\n",
    "def implicit_sparse(dx, dt,nt, nx, sigma,q,T0):\n",
    "    A = ACoomatrix(nx-2, sigma)\n",
    "    T = T0.copy()\n",
    "    for n in range(1,nt):\n",
    "        b = RHS(dx, q, T, sigma)\n",
    "        T[1:-1] = spsolve(A,b)\n",
    "        T[-1] = T[-2] + q*dx\n",
    "    return T\n",
    "\n",
    "Tsp = implicit_sparse(dx, dt,nt, nx, sigma,q,T0)\n",
    "plot(x,Tsp)"
   ]
  },
  {
   "cell_type": "code",
   "execution_count": 77,
   "metadata": {},
   "outputs": [
    {
     "data": {
      "text/plain": [
       "56"
      ]
     },
     "execution_count": 77,
     "metadata": {},
     "output_type": "execute_result"
    }
   ],
   "source": [
    "from sys import getsizeof\n",
    "a = 42\n",
    "getsizeof(a)\n",
    "a = 2**1000\n",
    "getsizeof(D)\n"
   ]
  },
  {
   "cell_type": "code",
   "execution_count": 65,
   "metadata": {},
   "outputs": [
    {
     "data": {
      "text/plain": [
       "20920"
      ]
     },
     "execution_count": 65,
     "metadata": {},
     "output_type": "execute_result"
    }
   ],
   "source": [
    "A=Amatrix(51, sigma)\n",
    "getsizeof(A)"
   ]
  },
  {
   "cell_type": "code",
   "execution_count": 70,
   "metadata": {},
   "outputs": [
    {
     "ename": "TypeError",
     "evalue": "'coo_matrix' object is not subscriptable",
     "output_type": "error",
     "traceback": [
      "\u001b[0;31m---------------------------------------------------------------------------\u001b[0m",
      "\u001b[0;31mTypeError\u001b[0m                                 Traceback (most recent call last)",
      "\u001b[0;32m<ipython-input-70-aba4243ecdd3>\u001b[0m in \u001b[0;36m<module>\u001b[0;34m\u001b[0m\n\u001b[1;32m      1\u001b[0m \u001b[0mD\u001b[0m\u001b[0;34m=\u001b[0m\u001b[0mcoo_matrix\u001b[0m\u001b[0;34m(\u001b[0m\u001b[0mA\u001b[0m\u001b[0;34m)\u001b[0m\u001b[0;34m\u001b[0m\u001b[0;34m\u001b[0m\u001b[0m\n\u001b[1;32m      2\u001b[0m \u001b[0mgetsizeof\u001b[0m\u001b[0;34m(\u001b[0m\u001b[0mD\u001b[0m\u001b[0;34m)\u001b[0m\u001b[0;34m\u001b[0m\u001b[0;34m\u001b[0m\u001b[0m\n\u001b[0;32m----> 3\u001b[0;31m \u001b[0mD\u001b[0m\u001b[0;34m[\u001b[0m\u001b[0;36m1\u001b[0m\u001b[0;34m,\u001b[0m\u001b[0;36m1\u001b[0m\u001b[0;34m]\u001b[0m\u001b[0;34m\u001b[0m\u001b[0;34m\u001b[0m\u001b[0m\n\u001b[0m",
      "\u001b[0;31mTypeError\u001b[0m: 'coo_matrix' object is not subscriptable"
     ]
    }
   ],
   "source": [
    "D=coo_matrix(A)\n",
    "getsizeof(D)\n",
    "D[1,1]"
   ]
  },
  {
   "cell_type": "code",
   "execution_count": null,
   "metadata": {},
   "outputs": [],
   "source": []
  }
 ],
 "metadata": {
  "kernelspec": {
   "display_name": "Python 3",
   "language": "python",
   "name": "python3"
  },
  "language_info": {
   "codemirror_mode": {
    "name": "ipython",
    "version": 3
   },
   "file_extension": ".py",
   "mimetype": "text/x-python",
   "name": "python",
   "nbconvert_exporter": "python",
   "pygments_lexer": "ipython3",
   "version": "3.7.3"
  }
 },
 "nbformat": 4,
 "nbformat_minor": 2
}
